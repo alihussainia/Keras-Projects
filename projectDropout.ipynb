{
  "nbformat": 4,
  "nbformat_minor": 0,
  "metadata": {
    "colab": {
      "name": "Copy of projectDropout.ipynb",
      "version": "0.3.2",
      "provenance": [],
      "collapsed_sections": []
    },
    "kernelspec": {
      "name": "python3",
      "display_name": "Python 3"
    }
  },
  "cells": [
    {
      "metadata": {
        "id": "Z1i4jC-g5gR-",
        "colab_type": "text"
      },
      "cell_type": "markdown",
      "source": [
        "# Imports"
      ]
    },
    {
      "metadata": {
        "id": "3gmhGBlqefkE",
        "colab_type": "code",
        "outputId": "6e323de1-dfcc-43ac-93f7-00553021d68c",
        "colab": {
          "base_uri": "https://localhost:8080/",
          "height": 34
        }
      },
      "cell_type": "code",
      "source": [
        "import numpy\n",
        "from pandas import read_csv\n",
        "from keras.models import Sequential\n",
        "from keras.layers import Dense\n",
        "from keras.layers import Dropout\n",
        "from keras.wrappers.scikit_learn import KerasClassifier\n",
        "from keras.constraints import maxnorm\n",
        "from keras.optimizers import SGD\n",
        "from sklearn.model_selection import cross_val_score\n",
        "from sklearn.preprocessing import LabelEncoder\n",
        "from sklearn.model_selection import StratifiedKFold\n",
        "from sklearn.preprocessing import StandardScaler\n",
        "from sklearn.pipeline import Pipeline"
      ],
      "execution_count": 0,
      "outputs": [
        {
          "output_type": "stream",
          "text": [
            "Using TensorFlow backend.\n"
          ],
          "name": "stderr"
        }
      ]
    },
    {
      "metadata": {
        "id": "bNxO7d625i3P",
        "colab_type": "text"
      },
      "cell_type": "markdown",
      "source": [
        "# Fixing Random Seed"
      ]
    },
    {
      "metadata": {
        "id": "ukWdWOl5el5t",
        "colab_type": "code",
        "colab": {}
      },
      "cell_type": "code",
      "source": [
        "# fix random seed for reproducibility\n",
        "seed = 7\n",
        "numpy.random.seed(seed)"
      ],
      "execution_count": 0,
      "outputs": []
    },
    {
      "metadata": {
        "id": "Mb9zoEMv5m5I",
        "colab_type": "text"
      },
      "cell_type": "markdown",
      "source": [
        "# Loading Dataset"
      ]
    },
    {
      "metadata": {
        "id": "yp9X_a5peokY",
        "colab_type": "code",
        "colab": {}
      },
      "cell_type": "code",
      "source": [
        "# load dataset\n",
        "dataframe = read_csv(\"sonar.csv\", header=None)\n",
        "dataset = dataframe.values\n",
        "# split into input (X) and output (Y) variables\n",
        "X = dataset[:,0:60].astype(float)\n",
        "Y = dataset[:,60]"
      ],
      "execution_count": 0,
      "outputs": []
    },
    {
      "metadata": {
        "id": "gar_1yY25rhP",
        "colab_type": "text"
      },
      "cell_type": "markdown",
      "source": [
        "# Encoding labels"
      ]
    },
    {
      "metadata": {
        "id": "JeaODgmmerxC",
        "colab_type": "code",
        "colab": {}
      },
      "cell_type": "code",
      "source": [
        "# encode class values as integers\n",
        "encoder = LabelEncoder()\n",
        "encoder.fit(Y)\n",
        "encoded_Y = encoder.transform(Y)"
      ],
      "execution_count": 0,
      "outputs": []
    },
    {
      "metadata": {
        "id": "jK-rGQINbw6u",
        "colab_type": "text"
      },
      "cell_type": "markdown",
      "source": [
        "# Dropout Regularization in Keras\n",
        "\n",
        "---\n",
        "\n",
        "## Baseline Model"
      ]
    },
    {
      "metadata": {
        "id": "v1kZ-fjDbxWD",
        "colab_type": "code",
        "outputId": "f3b98a28-4b8f-4f46-d3ab-8a58635aa503",
        "colab": {
          "base_uri": "https://localhost:8080/",
          "height": 171
        }
      },
      "cell_type": "code",
      "source": [
        "# Baseline Model on the Sonar Dataset\n",
        "# baseline\n",
        "def create_baseline():\n",
        "\t# create model\n",
        "\tmodel = Sequential()\n",
        "\tmodel.add(Dense(60, input_dim=60, kernel_initializer='normal', activation='relu'))\n",
        "\tmodel.add(Dense(30, kernel_initializer='normal', activation='relu'))\n",
        "\tmodel.add(Dense(1, kernel_initializer='normal', activation='sigmoid'))\n",
        "\t# Compile model\n",
        "\tsgd = SGD(lr=0.01, momentum=0.8, decay=0.0, nesterov=False)\n",
        "\tmodel.compile(loss='binary_crossentropy', optimizer=sgd, metrics=['accuracy'])\n",
        "\treturn model\n",
        "\n",
        "numpy.random.seed(seed)\n",
        "estimators = []\n",
        "estimators.append(('standardize', StandardScaler()))\n",
        "estimators.append(('mlp', KerasClassifier(build_fn=create_baseline, epochs=300, batch_size=16, verbose=0)))\n",
        "pipeline = Pipeline(estimators)\n",
        "kfold = StratifiedKFold(n_splits=10, shuffle=True, random_state=seed)\n",
        "results = cross_val_score(pipeline, X, encoded_Y, cv=kfold)\n",
        "print(\"Baseline: %.2f%% (%.2f%%)\" % (results.mean()*100, results.std()*100))\n"
      ],
      "execution_count": 0,
      "outputs": [
        {
          "output_type": "stream",
          "text": [
            "Using TensorFlow backend.\n"
          ],
          "name": "stderr"
        },
        {
          "output_type": "stream",
          "text": [
            "WARNING:tensorflow:From /usr/local/lib/python3.6/dist-packages/tensorflow/python/framework/op_def_library.py:263: colocate_with (from tensorflow.python.framework.ops) is deprecated and will be removed in a future version.\n",
            "Instructions for updating:\n",
            "Colocations handled automatically by placer.\n",
            "WARNING:tensorflow:From /usr/local/lib/python3.6/dist-packages/tensorflow/python/ops/math_ops.py:3066: to_int32 (from tensorflow.python.ops.math_ops) is deprecated and will be removed in a future version.\n",
            "Instructions for updating:\n",
            "Use tf.cast instead.\n",
            "Baseline: 81.66% (6.89%)\n"
          ],
          "name": "stdout"
        }
      ]
    },
    {
      "metadata": {
        "id": "DMb33Fz_eTGl",
        "colab_type": "text"
      },
      "cell_type": "markdown",
      "source": [
        "## Dropout Layer added in the Visible layer with 40% Dropping Probablity  \n",
        "## Learning rate is 1\n",
        "## No. of epochs are 600"
      ]
    },
    {
      "metadata": {
        "id": "HpisveD0kOUR",
        "colab_type": "code",
        "outputId": "da33a132-fd6f-4cf9-c0af-9c980f2fb207",
        "colab": {
          "base_uri": "https://localhost:8080/",
          "height": 34
        }
      },
      "cell_type": "code",
      "source": [
        "# dropout in the input layer with weight constraint\n",
        "def create_model():\n",
        "\t# create model, insert code here\n",
        "\tmodel = Sequential()\n",
        "\tmodel.add(Dropout(0.4, input_shape=(60,)))\n",
        "\tmodel.add(Dense(60, kernel_initializer='normal', activation='relu', kernel_constraint=maxnorm(3)))\n",
        "\tmodel.add(Dense(30, kernel_initializer='normal', activation='relu', kernel_constraint=maxnorm(3)))\n",
        "\tmodel.add(Dense(1, kernel_initializer='normal', activation='sigmoid'))\n",
        "\n",
        "\n",
        "\t# Compile model\n",
        "\tsgd = SGD(lr=1, momentum=0.9, decay=0.0, nesterov=False)\n",
        "\tmodel.compile(loss='binary_crossentropy', optimizer=sgd, metrics=['accuracy'])\n",
        "\treturn model\n",
        "\n",
        "numpy.random.seed(seed)\n",
        "estimators = []\n",
        "estimators.append(('standardize', StandardScaler()))\n",
        "estimators.append(('mlp', KerasClassifier(build_fn=create_model, epochs=600, batch_size=16, verbose=0)))\n",
        "pipeline = Pipeline(estimators)\n",
        "kfold = StratifiedKFold(n_splits=10, shuffle=True, random_state=seed)\n",
        "results = cross_val_score(pipeline, X, encoded_Y, cv=kfold)\n",
        "print(\"Visible: %.2f%% (%.2f%%)\" % (results.mean()*100, results.std()*100))"
      ],
      "execution_count": 0,
      "outputs": [
        {
          "output_type": "stream",
          "text": [
            "Visible: 50.00% (3.60%)\n"
          ],
          "name": "stdout"
        }
      ]
    },
    {
      "metadata": {
        "id": "Z8hbkacHoHu2",
        "colab_type": "text"
      },
      "cell_type": "markdown",
      "source": [
        "# Tuned Visible Model \n",
        "\n",
        "---\n",
        "## Dropout Probability has been decreased from 40% to 20%\n",
        "## Learning Rate has been decreased from 1 to 0.1 \n",
        "## No. of Epochs have been decreased from 600 to 300\n"
      ]
    },
    {
      "metadata": {
        "id": "Knfg1zD2hKWI",
        "colab_type": "code",
        "outputId": "d2190047-a897-4177-dc33-9fc4600cde3d",
        "colab": {
          "base_uri": "https://localhost:8080/",
          "height": 34
        }
      },
      "cell_type": "code",
      "source": [
        "# dropout in the input layer with weight constraint\n",
        "def create_model():\n",
        "\t# create model, insert code here\n",
        "\tmodel = Sequential()\n",
        "\tmodel.add(Dropout(0.2, input_shape=(60,)))\n",
        "\tmodel.add(Dense(60, kernel_initializer='normal', activation='relu', kernel_constraint=maxnorm(3)))\n",
        "\tmodel.add(Dense(30, kernel_initializer='normal', activation='relu', kernel_constraint=maxnorm(3)))\n",
        "\tmodel.add(Dense(1, kernel_initializer='normal', activation='sigmoid'))\n",
        "\n",
        "\n",
        "\t# Compile model\n",
        "\tsgd = SGD(lr=0.1, momentum=0.9, decay=0.0, nesterov=False)\n",
        "\tmodel.compile(loss='binary_crossentropy', optimizer=sgd, metrics=['accuracy'])\n",
        "\treturn model\n",
        "\n",
        "numpy.random.seed(seed)\n",
        "estimators = []\n",
        "estimators.append(('standardize', StandardScaler()))\n",
        "estimators.append(('mlp', KerasClassifier(build_fn=create_model, epochs=300, batch_size=16, verbose=0)))\n",
        "pipeline = Pipeline(estimators)\n",
        "kfold = StratifiedKFold(n_splits=10, shuffle=True, random_state=seed)\n",
        "results = cross_val_score(pipeline, X, encoded_Y, cv=kfold)\n",
        "print(\"Visible: %.2f%% (%.2f%%)\" % (results.mean()*100, results.std()*100))"
      ],
      "execution_count": 0,
      "outputs": [
        {
          "output_type": "stream",
          "text": [
            "Visible: 86.99% (6.88%)\n"
          ],
          "name": "stdout"
        }
      ]
    },
    {
      "metadata": {
        "id": "Ii2GeugjpWaw",
        "colab_type": "text"
      },
      "cell_type": "markdown",
      "source": [
        "# Hidden Dropout Model\n",
        "\n",
        "---\n",
        "\n",
        "## Dropout Probability is 20%\n",
        "## Learning rate is 20%\n",
        "## No. of epochs are 600\n"
      ]
    },
    {
      "metadata": {
        "id": "GscagTaGnuVh",
        "colab_type": "code",
        "outputId": "4f3291c0-1195-4707-9184-9dded7609116",
        "colab": {
          "base_uri": "https://localhost:8080/",
          "height": 34
        }
      },
      "cell_type": "code",
      "source": [
        "# dropout in the input layer with weight constraint\n",
        "def create_model():\n",
        "  # create model, insert code here\n",
        "  model = Sequential()\n",
        "  model.add(Dense(60, input_dim=60, kernel_initializer='normal', activation='relu', kernel_constraint=maxnorm(3)))\n",
        "  model.add(Dropout(.2))\n",
        "  model.add(Dense(30, kernel_initializer='normal', activation='relu', kernel_constraint=maxnorm(3)))\n",
        "  model.add(Dropout(.2))\n",
        "  model.add(Dense(1, kernel_initializer='normal', activation='sigmoid'))\n",
        "  \n",
        "  # Compile model\n",
        "  sgd = SGD(lr=0.2, momentum=0.9, decay=0.0, nesterov=False)\n",
        "  model.compile(loss='binary_crossentropy', optimizer=sgd, metrics=['accuracy'])\n",
        "  return model\n",
        "\n",
        "numpy.random.seed(seed)\n",
        "estimators = []\n",
        "estimators.append(('standardize', StandardScaler()))\n",
        "estimators.append(('mlp', KerasClassifier(build_fn=create_model, epochs=600, batch_size=16, verbose=0)))\n",
        "pipeline = Pipeline(estimators)\n",
        "kfold = StratifiedKFold(n_splits=10, shuffle=True, random_state=seed)\n",
        "results = cross_val_score(pipeline, X, encoded_Y, cv=kfold)\n",
        "print(\"Hidden: %.2f%% (%.2f%%)\" % (results.mean()*100, results.std()*100))"
      ],
      "execution_count": 0,
      "outputs": [
        {
          "output_type": "stream",
          "text": [
            "Hidden: 51.05% (3.45%)\n"
          ],
          "name": "stdout"
        }
      ]
    },
    {
      "metadata": {
        "id": "2Q5kiTRdtFCv",
        "colab_type": "text"
      },
      "cell_type": "markdown",
      "source": [
        "# Hidden_Tuned \n",
        "\n",
        "---\n",
        "\n",
        "## Dropout Probability is kept unchanged i.e. 20%\n",
        "## Learning rate has been decreased from 20% to 10%\n",
        "## No. of epochs have been decreased from 600 to 300"
      ]
    },
    {
      "metadata": {
        "id": "PK83MMp5gdHF",
        "colab_type": "code",
        "outputId": "f874b36e-72ce-438c-ebd6-a7eceb9e0b11",
        "colab": {
          "base_uri": "https://localhost:8080/",
          "height": 34
        }
      },
      "cell_type": "code",
      "source": [
        "# dropout in the input layer with weight constraint\n",
        "def create_model():\n",
        "  # create model, insert code here\n",
        "  model = Sequential()\n",
        "  model.add(Dense(60, input_dim=60, kernel_initializer='normal', activation='relu', kernel_constraint=maxnorm(3)))\n",
        "  model.add(Dropout(.2))\n",
        "  model.add(Dense(30, kernel_initializer='normal', activation='relu', kernel_constraint=maxnorm(3)))\n",
        "  model.add(Dropout(.2))\n",
        "  model.add(Dense(1, kernel_initializer='normal', activation='sigmoid'))\n",
        "  \n",
        "  # Compile model\n",
        "  sgd = SGD(lr=0.1, momentum=0.9, decay=0.0, nesterov=False)\n",
        "  model.compile(loss='binary_crossentropy', optimizer=sgd, metrics=['accuracy'])\n",
        "  return model\n",
        "\n",
        "numpy.random.seed(seed)\n",
        "estimators = []\n",
        "estimators.append(('standardize', StandardScaler()))\n",
        "estimators.append(('mlp', KerasClassifier(build_fn=create_model, epochs=300, batch_size=16, verbose=0)))\n",
        "pipeline = Pipeline(estimators)\n",
        "kfold = StratifiedKFold(n_splits=10, shuffle=True, random_state=seed)\n",
        "results = cross_val_score(pipeline, X, encoded_Y, cv=kfold)\n",
        "print(\"Hidden: %.2f%% (%.2f%%)\" % (results.mean()*100, results.std()*100))\n",
        "1"
      ],
      "execution_count": 0,
      "outputs": [
        {
          "output_type": "stream",
          "text": [
            "Hidden: 83.66% (5.28%)\n"
          ],
          "name": "stdout"
        }
      ]
    },
    {
      "metadata": {
        "id": "K2HjC8H9qJDt",
        "colab_type": "text"
      },
      "cell_type": "markdown",
      "source": [
        "# Original Paper"
      ]
    },
    {
      "metadata": {
        "id": "4hAXQwgmqzY6",
        "colab_type": "text"
      },
      "cell_type": "markdown",
      "source": [
        "## With different Drop out Values\n",
        "\n",
        "---\n",
        "\n",
        "### 1st Model with 0.3 or 30% Dropping Probability\n",
        "### 2nd Model with 0.4 or 40% Dropping Probability  \n",
        "### 3rd Model with 0.5 or 50% Dropping Probability  "
      ]
    },
    {
      "metadata": {
        "id": "pZL7gimvp_pS",
        "colab_type": "code",
        "outputId": "87946526-b32a-4b37-9ad4-0c0b66d540fa",
        "colab": {
          "base_uri": "https://localhost:8080/",
          "height": 34
        }
      },
      "cell_type": "code",
      "source": [
        "# Dropping Probability 30%\n",
        "# dropout in the input layer with weight constraint\n",
        "def create_model():\n",
        "\t# create model, insert code here\n",
        "\tmodel = Sequential()\n",
        "\tmodel.add(Dropout(0.3, input_shape=(60,)))\n",
        "\tmodel.add(Dense(60, kernel_initializer='normal', activation='relu', kernel_constraint=maxnorm(3)))\n",
        "\tmodel.add(Dense(30, kernel_initializer='normal', activation='relu', kernel_constraint=maxnorm(3)))\n",
        "\tmodel.add(Dense(1, kernel_initializer='normal', activation='sigmoid'))\n",
        "\n",
        "\n",
        "\t# Compile model\n",
        "\tsgd = SGD(lr=0.1, momentum=0.9, decay=0.0, nesterov=False)\n",
        "\tmodel.compile(loss='binary_crossentropy', optimizer=sgd, metrics=['accuracy'])\n",
        "\treturn model\n",
        "\n",
        "numpy.random.seed(seed)\n",
        "estimators = []\n",
        "estimators.append(('standardize', StandardScaler()))\n",
        "estimators.append(('mlp', KerasClassifier(build_fn=create_model, epochs=300, batch_size=16, verbose=0)))\n",
        "pipeline = Pipeline(estimators)\n",
        "kfold = StratifiedKFold(n_splits=10, shuffle=True, random_state=seed)\n",
        "results = cross_val_score(pipeline, X, encoded_Y, cv=kfold)\n",
        "print(\"Visible_Original: %.2f%% (%.2f%%)\" % (results.mean()*100, results.std()*100))"
      ],
      "execution_count": 0,
      "outputs": [
        {
          "output_type": "stream",
          "text": [
            "Visible_Original: 81.68% (6.16%)\n"
          ],
          "name": "stdout"
        }
      ]
    },
    {
      "metadata": {
        "id": "VKaDBRcGrKb9",
        "colab_type": "code",
        "outputId": "bc756ef7-cd3e-4e4d-bd4e-44bb94f36172",
        "colab": {
          "base_uri": "https://localhost:8080/",
          "height": 34
        }
      },
      "cell_type": "code",
      "source": [
        "# Dropping Probability 40%   # the best combo\n",
        "# dropout in the input layer with weight constraint\n",
        "def create_model():\n",
        "\t# create model, insert code here\n",
        "\tmodel = Sequential()\n",
        "\tmodel.add(Dropout(0.4, input_shape=(60,)))\n",
        "\tmodel.add(Dense(60, kernel_initializer='normal', activation='relu', kernel_constraint=maxnorm(3)))\n",
        "\tmodel.add(Dense(30, kernel_initializer='normal', activation='relu', kernel_constraint=maxnorm(3)))\n",
        "\tmodel.add(Dense(1, kernel_initializer='normal', activation='sigmoid'))\n",
        "\n",
        "\n",
        "\t# Compile model\n",
        "\tsgd = SGD(lr=0.1, momentum=0.9, decay=0.0, nesterov=False)\n",
        "\tmodel.compile(loss='binary_crossentropy', optimizer=sgd, metrics=['accuracy'])\n",
        "\treturn model\n",
        "\n",
        "numpy.random.seed(seed)\n",
        "estimators = []\n",
        "estimators.append(('standardize', StandardScaler()))\n",
        "estimators.append(('mlp', KerasClassifier(build_fn=create_model, epochs=300, batch_size=16, verbose=0)))\n",
        "pipeline = Pipeline(estimators)\n",
        "kfold = StratifiedKFold(n_splits=10, shuffle=True, random_state=seed)\n",
        "results = cross_val_score(pipeline, X, encoded_Y, cv=kfold)\n",
        "print(\"Visible_Original: %.2f%% (%.2f%%)\" % (results.mean()*100, results.std()*100))"
      ],
      "execution_count": 0,
      "outputs": [
        {
          "output_type": "stream",
          "text": [
            "Visible_Original: 88.45% (5.98%)\n"
          ],
          "name": "stdout"
        }
      ]
    },
    {
      "metadata": {
        "id": "UH1T0CPUrkzv",
        "colab_type": "code",
        "outputId": "9614f0c8-fa8f-4563-d185-27dabdd4bff6",
        "colab": {
          "base_uri": "https://localhost:8080/",
          "height": 34
        }
      },
      "cell_type": "code",
      "source": [
        "# Dropping Probability 50%\n",
        "# dropout in the input layer with weight constraint\n",
        "def create_model():\n",
        "\t# create model, insert code here\n",
        "\tmodel = Sequential()\n",
        "\tmodel.add(Dropout(0.5, input_shape=(60,)))\n",
        "\tmodel.add(Dense(60, kernel_initializer='normal', activation='relu', kernel_constraint=maxnorm(3)))\n",
        "\tmodel.add(Dense(30, kernel_initializer='normal', activation='relu', kernel_constraint=maxnorm(3)))\n",
        "\tmodel.add(Dense(1, kernel_initializer='normal', activation='sigmoid'))\n",
        "\n",
        "\n",
        "\t# Compile model\n",
        "\tsgd = SGD(lr=0.1, momentum=0.9, decay=0.0, nesterov=False)\n",
        "\tmodel.compile(loss='binary_crossentropy', optimizer=sgd, metrics=['accuracy'])\n",
        "\treturn model\n",
        "\n",
        "numpy.random.seed(seed)\n",
        "estimators = []\n",
        "estimators.append(('standardize', StandardScaler()))\n",
        "estimators.append(('mlp', KerasClassifier(build_fn=create_model, epochs=300, batch_size=16, verbose=0)))\n",
        "pipeline = Pipeline(estimators)\n",
        "kfold = StratifiedKFold(n_splits=10, shuffle=True, random_state=seed)\n",
        "results = cross_val_score(pipeline, X, encoded_Y, cv=kfold)\n",
        "print(\"Visible_Original: %.2f%% (%.2f%%)\" % (results.mean()*100, results.std()*100))"
      ],
      "execution_count": 0,
      "outputs": [
        {
          "output_type": "stream",
          "text": [
            "Visible_Original: 82.16% (5.44%)\n"
          ],
          "name": "stdout"
        }
      ]
    },
    {
      "metadata": {
        "id": "wVcsCtvrq_5G",
        "colab_type": "text"
      },
      "cell_type": "markdown",
      "source": [
        "# With larger Network"
      ]
    },
    {
      "metadata": {
        "id": "_giUPXMCsfV9",
        "colab_type": "code",
        "outputId": "8c1b93cf-28dc-4ec5-9082-94ba444f338c",
        "colab": {
          "base_uri": "https://localhost:8080/",
          "height": 205
        }
      },
      "cell_type": "code",
      "source": [
        "# dropout in the input layer with weight constraint\n",
        "def create_model():\n",
        "  # create model, insert code here\n",
        "  model = Sequential()\n",
        "  model.add(Dense(512, input_dim=60, kernel_initializer='normal', activation='relu', kernel_constraint=maxnorm(3)))\n",
        "  model.add(Dropout(.3))\n",
        "  model.add(Dense(256, kernel_initializer='normal', activation='relu', kernel_constraint=maxnorm(3)))\n",
        "  model.add(Dropout(.2))\n",
        "  model.add(Dense(128, kernel_initializer='normal', activation='relu', kernel_constraint=maxnorm(3)))\n",
        "  model.add(Dropout(.2))\n",
        "  model.add(Dense(1, kernel_initializer='normal', activation='sigmoid'))\n",
        "  \n",
        "  # Compile model\n",
        "  sgd = SGD(lr=0.1, momentum=0.9, decay=0.0, nesterov=False)\n",
        "  model.compile(loss='binary_crossentropy', optimizer=sgd, metrics=['accuracy'])\n",
        "  return model\n",
        "\n",
        "numpy.random.seed(seed)\n",
        "estimators = []\n",
        "estimators.append(('standardize', StandardScaler()))\n",
        "estimators.append(('mlp', KerasClassifier(build_fn=create_model, epochs=300, batch_size=16, verbose=0)))\n",
        "pipeline = Pipeline(estimators)\n",
        "kfold = StratifiedKFold(n_splits=10, shuffle=True, random_state=seed)\n",
        "results = cross_val_score(pipeline, X, encoded_Y, cv=kfold)\n",
        "print(\"Larger_Network: %.2f%% (%.2f%%)\" % (results.mean()*100, results.std()*100))"
      ],
      "execution_count": 0,
      "outputs": [
        {
          "output_type": "stream",
          "text": [
            "WARNING:tensorflow:From /usr/local/lib/python3.6/dist-packages/tensorflow/python/framework/op_def_library.py:263: colocate_with (from tensorflow.python.framework.ops) is deprecated and will be removed in a future version.\n",
            "Instructions for updating:\n",
            "Colocations handled automatically by placer.\n",
            "WARNING:tensorflow:From /usr/local/lib/python3.6/dist-packages/keras/backend/tensorflow_backend.py:3445: calling dropout (from tensorflow.python.ops.nn_ops) with keep_prob is deprecated and will be removed in a future version.\n",
            "Instructions for updating:\n",
            "Please use `rate` instead of `keep_prob`. Rate should be set to `rate = 1 - keep_prob`.\n",
            "WARNING:tensorflow:From /usr/local/lib/python3.6/dist-packages/tensorflow/python/ops/math_ops.py:3066: to_int32 (from tensorflow.python.ops.math_ops) is deprecated and will be removed in a future version.\n",
            "Instructions for updating:\n",
            "Use tf.cast instead.\n",
            "Larger_Network: 51.91% (3.05%)\n"
          ],
          "name": "stdout"
        }
      ]
    },
    {
      "metadata": {
        "id": "ZhjcpVJTski6",
        "colab_type": "text"
      },
      "cell_type": "markdown",
      "source": [
        "# Both Visible and Hidden Dropout"
      ]
    },
    {
      "metadata": {
        "id": "nMvSHXmUswvC",
        "colab_type": "code",
        "outputId": "c1b45e5b-9659-4af1-fff0-c06fb3cad8d9",
        "colab": {
          "base_uri": "https://localhost:8080/",
          "height": 34
        }
      },
      "cell_type": "code",
      "source": [
        "# dropout in the input layer with weight constraint\n",
        "def create_model():\n",
        "\t# create model, insert code here\n",
        "  model = Sequential()\n",
        "  model.add(Dropout(0.2, input_shape=(60,)))\n",
        "  model.add(Dense(60, kernel_initializer='normal', activation='relu', kernel_constraint=maxnorm(3)))\n",
        "  model.add(Dropout(.2))\n",
        "  model.add(Dense(30, kernel_initializer='normal', activation='relu', kernel_constraint=maxnorm(3)))\n",
        "  model.add(Dropout(.2))\n",
        "  model.add(Dense(1, kernel_initializer='normal', activation='sigmoid'))\n",
        "  \n",
        "  # Compile model\n",
        "  sgd = SGD(lr=0.1, momentum=0.9, decay=0.0, nesterov=False)\n",
        "  model.compile(loss='binary_crossentropy', optimizer=sgd, metrics=['accuracy'])\n",
        "  return model\n",
        "\n",
        "numpy.random.seed(seed)\n",
        "estimators = []\n",
        "estimators.append(('standardize', StandardScaler()))\n",
        "estimators.append(('mlp', KerasClassifier(build_fn=create_model, epochs=300, batch_size=16, verbose=0)))\n",
        "pipeline = Pipeline(estimators)\n",
        "kfold = StratifiedKFold(n_splits=10, shuffle=True, random_state=seed)\n",
        "results = cross_val_score(pipeline, X, encoded_Y, cv=kfold)\n",
        "print(\"Both Visible & Hidden: %.2f%% (%.2f%%)\" % (results.mean()*100, results.std()*100))"
      ],
      "execution_count": 0,
      "outputs": [
        {
          "output_type": "stream",
          "text": [
            "Both Visible & Hidden: 87.02% (4.79%)\n"
          ],
          "name": "stdout"
        }
      ]
    },
    {
      "metadata": {
        "id": "LfT7LWnHuF7T",
        "colab_type": "text"
      },
      "cell_type": "markdown",
      "source": [
        "# Large Learning Rate with Decay and Large Momentum "
      ]
    },
    {
      "metadata": {
        "id": "d88iRmPxuMsY",
        "colab_type": "code",
        "outputId": "0174aebc-5d5c-42df-cd69-6e0c44a5fd58",
        "colab": {
          "base_uri": "https://localhost:8080/",
          "height": 34
        }
      },
      "cell_type": "code",
      "source": [
        "def create_model():\n",
        "  # create model, insert code here\n",
        "  model = Sequential()\n",
        "  model.add(Dropout(0.4, input_shape=(60,)))\n",
        "  model.add(Dense(60, kernel_initializer='normal', activation='relu', kernel_constraint=maxnorm(3)))\n",
        "  model.add(Dense(30, kernel_initializer='normal', activation='relu', kernel_constraint=maxnorm(3)))\n",
        "  model.add(Dense(1, kernel_initializer='normal', activation='sigmoid'))\n",
        "  \n",
        "  # Compile model\n",
        "  sgd = SGD(lr=10, momentum=0.99, decay=10/300, nesterov=False)\n",
        "  model.compile(loss='binary_crossentropy', optimizer=sgd, metrics=['accuracy'])\n",
        "  return model\n",
        "\n",
        "numpy.random.seed(seed)\n",
        "estimators = []\n",
        "estimators.append(('standardize', StandardScaler()))\n",
        "estimators.append(('mlp', KerasClassifier(build_fn=create_model, epochs=300, batch_size=16, verbose=0)))\n",
        "pipeline = Pipeline(estimators)\n",
        "kfold = StratifiedKFold(n_splits=10, shuffle=True, random_state=seed)\n",
        "results = cross_val_score(pipeline, X, encoded_Y, cv=kfold)\n",
        "print(\"Large Lr & Momentum: %.2f%% (%.2f%%)\" % (results.mean()*100, results.std()*100))"
      ],
      "execution_count": 0,
      "outputs": [
        {
          "output_type": "stream",
          "text": [
            "Large Lr & Momentum: 50.91% (3.48%)\n"
          ],
          "name": "stdout"
        }
      ]
    },
    {
      "metadata": {
        "id": "BjRlsSve0udW",
        "colab_type": "text"
      },
      "cell_type": "markdown",
      "source": [
        "# Constrained the size of the network weights "
      ]
    },
    {
      "metadata": {
        "id": "t1Sezfjl0upH",
        "colab_type": "code",
        "outputId": "dda17a69-6c27-4507-c00f-dc271045ceb9",
        "colab": {
          "base_uri": "https://localhost:8080/",
          "height": 34
        }
      },
      "cell_type": "code",
      "source": [
        "def create_model():\n",
        "  # create model, insert code here\n",
        "  model = Sequential()\n",
        "  model.add(Dropout(0.4, input_shape=(60,)))\n",
        "  model.add(Dense(60, kernel_initializer='normal', activation='relu', kernel_constraint=maxnorm(4)))\n",
        " # model.add(Dropout(.2))\n",
        "  model.add(Dense(30, kernel_initializer='normal', activation='relu', kernel_constraint=maxnorm(4)))\n",
        " # model.add(Dropout(.2))\n",
        "  model.add(Dense(1, kernel_initializer='normal', activation='sigmoid'))\n",
        "  \n",
        "  # Compile model\n",
        "  sgd = SGD(lr=10, momentum=0.99, decay=10/300, nesterov=False)\n",
        "  model.compile(loss='binary_crossentropy', optimizer=sgd, metrics=['accuracy'])\n",
        "  return model\n",
        "\n",
        "numpy.random.seed(seed)\n",
        "estimators = []\n",
        "estimators.append(('standardize', StandardScaler()))\n",
        "estimators.append(('mlp', KerasClassifier(build_fn=create_model, epochs=300, batch_size=16, verbose=0)))\n",
        "pipeline = Pipeline(estimators)\n",
        "kfold = StratifiedKFold(n_splits=10, shuffle=True, random_state=seed)\n",
        "results = cross_val_score(pipeline, X, encoded_Y, cv=kfold)\n",
        "print(\"Maxnorm 4: %.2f%% (%.2f%%)\" % (results.mean()*100, results.std()*100))"
      ],
      "execution_count": 0,
      "outputs": [
        {
          "output_type": "stream",
          "text": [
            "Maxnorm 4: 50.43% (3.58%)\n"
          ],
          "name": "stdout"
        }
      ]
    },
    {
      "metadata": {
        "id": "s9cq7wR51E-z",
        "colab_type": "code",
        "outputId": "c53234bc-2dbb-4523-971a-0f03c33ea3b2",
        "colab": {
          "base_uri": "https://localhost:8080/",
          "height": 34
        }
      },
      "cell_type": "code",
      "source": [
        "def create_model():\n",
        "  # create model, insert code here\n",
        "  model = Sequential()\n",
        "  model.add(Dropout(0.4, input_shape=(60,)))\n",
        "  model.add(Dense(60, kernel_initializer='normal', activation='relu', kernel_constraint=maxnorm(5)))\n",
        " # model.add(Dropout(.2))\n",
        "  model.add(Dense(30, kernel_initializer='normal', activation='relu', kernel_constraint=maxnorm(5)))\n",
        " # model.add(Dropout(.2))\n",
        "  model.add(Dense(1, kernel_initializer='normal', activation='sigmoid'))\n",
        "  \n",
        "  # Compile model\n",
        "  sgd = SGD(lr=10, momentum=0.99, decay=10/300, nesterov=False)\n",
        "  model.compile(loss='binary_crossentropy', optimizer=sgd, metrics=['accuracy'])\n",
        "  return model\n",
        "\n",
        "numpy.random.seed(seed)\n",
        "estimators = []\n",
        "estimators.append(('standardize', StandardScaler()))\n",
        "estimators.append(('mlp', KerasClassifier(build_fn=create_model, epochs=300, batch_size=16, verbose=0)))\n",
        "pipeline = Pipeline(estimators)\n",
        "kfold = StratifiedKFold(n_splits=10, shuffle=True, random_state=seed)\n",
        "results = cross_val_score(pipeline, X, encoded_Y, cv=kfold)\n",
        "print(\"Maxnorm 5: %.2f%% (%.2f%%)\" % (results.mean()*100, results.std()*100))"
      ],
      "execution_count": 0,
      "outputs": [
        {
          "output_type": "stream",
          "text": [
            "Maxnorm 5: 50.43% (3.58%)\n"
          ],
          "name": "stdout"
        }
      ]
    },
    {
      "metadata": {
        "id": "Y5akwOPfyjrA",
        "colab_type": "code",
        "outputId": "8dc2d3c2-f04d-4b17-b5a5-44bf4e51cd33",
        "colab": {
          "base_uri": "https://localhost:8080/",
          "height": 34
        }
      },
      "cell_type": "code",
      "source": [
        "# dropout in the input layer with weight constraint\n",
        "def create_model():\n",
        "  # create model, insert code here\n",
        "  model = Sequential()\n",
        "  model.add(Dense(60, input_dim=60, kernel_initializer='normal', activation='relu'))\n",
        "  model.add(Dense(1, kernel_initializer='normal', activation='sigmoid'))\n",
        "  \n",
        "  # Compile model\n",
        "  sgd = SGD(lr=0.1, momentum=0.8, decay=0.002, nesterov=False)\n",
        "  model.compile(loss='binary_crossentropy', optimizer=sgd, metrics=['accuracy'])\n",
        "  return model\n",
        "\n",
        "numpy.random.seed(seed)\n",
        "estimators = []\n",
        "estimators.append(('standardize', StandardScaler()))\n",
        "estimators.append(('mlp', KerasClassifier(build_fn=create_model, epochs=50, batch_size=28, verbose=0)))\n",
        "pipeline = Pipeline(estimators)\n",
        "kfold = StratifiedKFold(n_splits=33, shuffle=True, random_state=seed)\n",
        "results = cross_val_score(pipeline, X, encoded_Y, cv=kfold)\n",
        "print(\"Model: %.2f%% (%.2f%%)\" % (results.mean()*100, results.std()*100))"
      ],
      "execution_count": 0,
      "outputs": [
        {
          "output_type": "stream",
          "text": [
            "Model: 88.17% (10.80%)\n"
          ],
          "name": "stdout"
        }
      ]
    },
    {
      "metadata": {
        "id": "_OrtJH1G3onz",
        "colab_type": "text"
      },
      "cell_type": "markdown",
      "source": [
        "# The Best Model\n",
        "\n",
        "---\n",
        "\n",
        "### Dropout Probability is 40%\n",
        "### Learning rate is 10%\n",
        "### Momentum is 80%\n",
        "### Decay is 0.02%"
      ]
    },
    {
      "metadata": {
        "id": "69eQ7auI0_q_",
        "colab_type": "code",
        "outputId": "940881e0-5dd5-419c-e3a5-0f30bdda04f7",
        "colab": {
          "base_uri": "https://localhost:8080/",
          "height": 34
        }
      },
      "cell_type": "code",
      "source": [
        "# Dropping Probability 40%   # the best combo\n",
        "# dropout in the input layer with weight constraint\n",
        "def create_model():\n",
        "\t# create model, insert code here\n",
        "\tmodel = Sequential()\n",
        "\tmodel.add(Dropout(0.4, input_shape=(60,)))\n",
        "\tmodel.add(Dense(60, kernel_initializer='normal', activation='relu', kernel_constraint=maxnorm(3)))\n",
        "\tmodel.add(Dense(30, kernel_initializer='normal', activation='relu', kernel_constraint=maxnorm(3)))\n",
        "\tmodel.add(Dense(1, kernel_initializer='normal', activation='sigmoid'))\n",
        "\n",
        "\n",
        "\t# Compile model\n",
        "\tsgd = SGD(lr=0.1, momentum=0.8, decay=0.002, nesterov=False)\n",
        "\tmodel.compile(loss='binary_crossentropy', optimizer=sgd, metrics=['accuracy'])\n",
        "\treturn model\n",
        "\n",
        "numpy.random.seed(seed)\n",
        "estimators = []\n",
        "estimators.append(('standardize', StandardScaler()))\n",
        "estimators.append(('mlp', KerasClassifier(build_fn=create_model, epochs=50, batch_size=28, verbose=0)))\n",
        "pipeline = Pipeline(estimators)\n",
        "kfold = StratifiedKFold(n_splits=33, shuffle=True, random_state=seed)\n",
        "results = cross_val_score(pipeline, X, encoded_Y, cv=kfold)\n",
        "print(\"Visible_Original: %.2f%% (%.2f%%)\" % (results.mean()*100, results.std()*100))"
      ],
      "execution_count": 0,
      "outputs": [
        {
          "output_type": "stream",
          "text": [
            "Visible_Original: 89.34% (11.03%)\n"
          ],
          "name": "stdout"
        }
      ]
    }
  ]
}