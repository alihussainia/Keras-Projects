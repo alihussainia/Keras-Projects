{
  "nbformat": 4,
  "nbformat_minor": 0,
  "metadata": {
    "colab": {
      "name": "project_Iris_shipment.ipynb",
      "version": "0.3.2",
      "provenance": [],
      "collapsed_sections": []
    },
    "kernelspec": {
      "name": "python3",
      "display_name": "Python 3"
    },
    "accelerator": "GPU"
  },
  "cells": [
    {
      "metadata": {
        "id": "k6pgKHG7uNr3",
        "colab_type": "text"
      },
      "cell_type": "markdown",
      "source": [
        "# Imports"
      ]
    },
    {
      "metadata": {
        "id": "1qBMIsB8NA3c",
        "colab_type": "code",
        "outputId": "a3dd3837-692d-4d22-9d03-c97f2ffabf04",
        "colab": {
          "base_uri": "https://localhost:8080/",
          "height": 34
        }
      },
      "cell_type": "code",
      "source": [
        "import numpy\n",
        "import pandas\n",
        "import keras\n",
        "import tensorflow.contrib.eager as tfe\n",
        "from keras import models\n",
        "from keras import layers\n",
        "from keras.models import Sequential\n",
        "from keras.layers import Dense\n",
        "from keras.wrappers.scikit_learn import KerasClassifier\n",
        "from sklearn.model_selection import cross_val_score\n",
        "from sklearn.model_selection import KFold\n",
        "from sklearn.model_selection import StratifiedKFold\n",
        "from sklearn.preprocessing import LabelEncoder\n",
        "from sklearn.pipeline import Pipeline\n",
        "from keras.utils import np_utils\n",
        "from sklearn.preprocessing import StandardScaler\n",
        "from sklearn import preprocessing\n",
        "from sklearn.utils import shuffle\n",
        "from keras.utils import plot_model\n",
        "from keras.models import Sequential, Model\n",
        "from keras import Input"
      ],
      "execution_count": 0,
      "outputs": [
        {
          "output_type": "stream",
          "text": [
            "Using TensorFlow backend.\n"
          ],
          "name": "stderr"
        }
      ]
    },
    {
      "metadata": {
        "id": "pUieMFc1uTK0",
        "colab_type": "text"
      },
      "cell_type": "markdown",
      "source": [
        "# fixing random seed"
      ]
    },
    {
      "metadata": {
        "id": "-2NJl7q0N3_L",
        "colab_type": "code",
        "colab": {}
      },
      "cell_type": "code",
      "source": [
        "# fix random seed for reproducibility\n",
        "seed = 7\n",
        "numpy.random.seed(seed)"
      ],
      "execution_count": 0,
      "outputs": []
    },
    {
      "metadata": {
        "id": "p5e7LP2ZuXCJ",
        "colab_type": "text"
      },
      "cell_type": "markdown",
      "source": [
        "# loading dataset"
      ]
    },
    {
      "metadata": {
        "id": "zmm79LcEOGso",
        "colab_type": "code",
        "colab": {}
      },
      "cell_type": "code",
      "source": [
        "# load dataset\n",
        "dataframe = pandas.read_csv(\"iris.csv\", header=None)\n",
        "dataset = dataframe.values\n",
        "X = dataset[:,0:4].astype(float)\n",
        "Y = dataset[:,4]"
      ],
      "execution_count": 0,
      "outputs": []
    },
    {
      "metadata": {
        "id": "k6Lqot_nuZ1A",
        "colab_type": "text"
      },
      "cell_type": "markdown",
      "source": [
        "# Encoding labels"
      ]
    },
    {
      "metadata": {
        "id": "aiGCp2mBORtd",
        "colab_type": "code",
        "colab": {}
      },
      "cell_type": "code",
      "source": [
        "# encode class values as integers\n",
        "encoder = LabelEncoder()\n",
        "encoder.fit(Y)\n",
        "encoded_Y = encoder.transform(Y)\n",
        "# convert integers to dummy variables (i.e. one hot encoded)\n",
        "dummy_y = np_utils.to_categorical(encoded_Y)\n"
      ],
      "execution_count": 0,
      "outputs": []
    },
    {
      "metadata": {
        "id": "1H_H9zkCP0-p",
        "colab_type": "code",
        "outputId": "5bf48068-f6a4-4edb-b231-3ed287bf0a02",
        "colab": {
          "base_uri": "https://localhost:8080/",
          "height": 34
        }
      },
      "cell_type": "code",
      "source": [
        "X.shape"
      ],
      "execution_count": 0,
      "outputs": [
        {
          "output_type": "execute_result",
          "data": {
            "text/plain": [
              "(150, 4)"
            ]
          },
          "metadata": {
            "tags": []
          },
          "execution_count": 8
        }
      ]
    },
    {
      "metadata": {
        "id": "mpTxh0fjukJ5",
        "colab_type": "text"
      },
      "cell_type": "markdown",
      "source": [
        "# Sequential API"
      ]
    },
    {
      "metadata": {
        "id": "BVBOxUvhupdS",
        "colab_type": "text"
      },
      "cell_type": "markdown",
      "source": [
        "## Baseline Model"
      ]
    },
    {
      "metadata": {
        "id": "KY49WZuowd2_",
        "colab_type": "code",
        "colab": {}
      },
      "cell_type": "code",
      "source": [
        "# define baseline model\n",
        "def baseline_model():\n",
        "  # Create model\n",
        "  model = models.Sequential()\n",
        "  model.add(layers.Dense(8, activation = 'relu', input_shape = (X.shape[1],)))\n",
        "  model.add(layers.Dense(3, activation='softmax'))\n",
        "  # Compile model\n",
        "  model.compile(optimizer = 'Adam', loss = 'categorical_crossentropy', metrics = ['accuracy'])\n",
        "  return model"
      ],
      "execution_count": 0,
      "outputs": []
    },
    {
      "metadata": {
        "id": "q0lumtr7TGql",
        "colab_type": "code",
        "colab": {}
      },
      "cell_type": "code",
      "source": [
        "# KerasClassifier class will be passed on to the fit() function internally used to train the neural network. \n",
        "# Debugging is also turned off\n",
        "\n",
        "estimator = KerasClassifier(build_fn=baseline_model, epochs=200, batch_size=5, verbose=0)"
      ],
      "execution_count": 0,
      "outputs": []
    },
    {
      "metadata": {
        "id": "TZRexvqPTZz4",
        "colab_type": "code",
        "colab": {}
      },
      "cell_type": "code",
      "source": [
        "# evaluate our model (estimator) on our dataset (X and dummy_y) using a 10-fold cross-validation procedure (kfold).\n",
        "\n",
        "kfold = KFold(n_splits=10, shuffle=True, random_state=seed)"
      ],
      "execution_count": 0,
      "outputs": []
    },
    {
      "metadata": {
        "id": "5fptg9zxTyKc",
        "colab_type": "code",
        "outputId": "17d532fc-1a5a-48b1-c317-743d102a4e10",
        "colab": {
          "base_uri": "https://localhost:8080/",
          "height": 154
        }
      },
      "cell_type": "code",
      "source": [
        "# evaluate the neural network model on our training data.\n",
        "# the evaluation of the 10 constructed models for each of the splits of the dataset\n",
        "# The results are summarized as both the mean and standard deviation of the model accuracy on the dataset\n",
        "\n",
        "results = cross_val_score(estimator, X, dummy_y, cv=kfold)\n",
        "print(\"Baseline: %.2f%% (%.2f%%)\" % (results.mean()*100, results.std()*100))"
      ],
      "execution_count": 0,
      "outputs": [
        {
          "output_type": "stream",
          "text": [
            "WARNING:tensorflow:From /usr/local/lib/python3.6/dist-packages/tensorflow/python/framework/op_def_library.py:263: colocate_with (from tensorflow.python.framework.ops) is deprecated and will be removed in a future version.\n",
            "Instructions for updating:\n",
            "Colocations handled automatically by placer.\n",
            "WARNING:tensorflow:From /usr/local/lib/python3.6/dist-packages/tensorflow/python/ops/math_ops.py:3066: to_int32 (from tensorflow.python.ops.math_ops) is deprecated and will be removed in a future version.\n",
            "Instructions for updating:\n",
            "Use tf.cast instead.\n",
            "Baseline: 97.33% (4.42%)\n"
          ],
          "name": "stdout"
        }
      ]
    },
    {
      "metadata": {
        "id": "e91qs9oIZbQc",
        "colab_type": "text"
      },
      "cell_type": "markdown",
      "source": [
        "## Smaller Model"
      ]
    },
    {
      "metadata": {
        "id": "vEmmfBSxT2lM",
        "colab_type": "code",
        "outputId": "39312545-806d-4af6-e567-d2f44579f375",
        "colab": {
          "base_uri": "https://localhost:8080/",
          "height": 34
        }
      },
      "cell_type": "code",
      "source": [
        "# smaller model\n",
        "def smaller_model():\n",
        "  # create model\n",
        "  model = models.Sequential()\n",
        "  model.add(layers.Dense(2, activation ='relu', input_shape = (X.shape[1],))) # number of features (4) are used as vector in input shape\n",
        "  model.add(layers.Dense(3, activation ='softmax'))\n",
        "\t# Compile model\n",
        "  model.compile(optimizer = 'Adam', loss = 'categorical_crossentropy', metrics = ['accuracy'])\n",
        "  return model\n",
        "\n",
        "estimator = KerasClassifier(build_fn=smaller_model, epochs=200, batch_size=5, verbose=0)\n",
        "\n",
        "kfold = KFold(n_splits=10, shuffle=True, random_state=seed)\n",
        "\n",
        "results = cross_val_score(estimator, X, dummy_y, cv=kfold)\n",
        "print(\"Smaller: %.2f%% (%.2f%%)\" % (results.mean()*100, results.std()*100))"
      ],
      "execution_count": 0,
      "outputs": [
        {
          "output_type": "stream",
          "text": [
            "Smaller: 76.67% (27.04%)\n"
          ],
          "name": "stdout"
        }
      ]
    },
    {
      "metadata": {
        "id": "ZesAfcTyZggb",
        "colab_type": "text"
      },
      "cell_type": "markdown",
      "source": [
        "## Larger Model"
      ]
    },
    {
      "metadata": {
        "id": "rCHrpCNXVL4Y",
        "colab_type": "code",
        "outputId": "2b9183ec-eea8-4b71-aa9c-22d82b6f67fa",
        "colab": {
          "base_uri": "https://localhost:8080/",
          "height": 34
        }
      },
      "cell_type": "code",
      "source": [
        "# larger model\n",
        "def larger_model():\n",
        "  # create model\n",
        "  model = models.Sequential()\n",
        "  model.add(layers.Dense(16, activation ='relu', input_shape = (X.shape[1],))) # number of features (4) are used as vector in input shape\n",
        "  model.add(layers.Dense(3, activation ='softmax'))\n",
        "\t# Compile model\n",
        "  model.compile(optimizer = 'Adam', loss = 'categorical_crossentropy', metrics = ['accuracy'])\n",
        "  return model\n",
        "\n",
        "estimator = KerasClassifier(build_fn=larger_model, epochs=200, batch_size=5, verbose=0)\n",
        "\n",
        "kfold = KFold(n_splits=10, shuffle=True, random_state=seed)\n",
        "\n",
        "results = cross_val_score(estimator, X, dummy_y, cv=kfold)\n",
        "print(\"Larger: %.2f%% (%.2f%%)\" % (results.mean()*100, results.std()*100))"
      ],
      "execution_count": 0,
      "outputs": [
        {
          "output_type": "stream",
          "text": [
            "Larger: 94.00% (6.96%)\n"
          ],
          "name": "stdout"
        }
      ]
    },
    {
      "metadata": {
        "id": "IzkNpG3NZjnN",
        "colab_type": "text"
      },
      "cell_type": "markdown",
      "source": [
        "## Scaled Model"
      ]
    },
    {
      "metadata": {
        "id": "0Xec_WAoEFoI",
        "colab_type": "code",
        "outputId": "f369086b-074e-48e3-9068-a3c05b5aaf91",
        "colab": {
          "base_uri": "https://localhost:8080/",
          "height": 34
        }
      },
      "cell_type": "code",
      "source": [
        "# scaled model\n",
        "def scaled_model():\n",
        "  # create model\n",
        "  model = models.Sequential()\n",
        "  # number of features (4) are used as vector in input shape\n",
        "  model.add(layers.Dense(512, activation='relu', input_shape = (X.shape[1],)))\n",
        "  model.add(layers.Dense(512, activation ='relu'))\n",
        "  model.add(layers.Dense(3, activation ='softmax'))\n",
        "\t# Compile model\n",
        "  model.compile(optimizer = 'Adam', loss = 'categorical_crossentropy', metrics = ['accuracy'])\n",
        "  return model\n",
        "\n",
        "estimator = KerasClassifier(build_fn=scaled_model, epochs=300, batch_size=5, verbose=0)\n",
        "\n",
        "kfold = KFold(n_splits=10, shuffle=True, random_state=seed)\n",
        "\n",
        "results = cross_val_score(estimator, X, dummy_y, cv=kfold)\n",
        "print(\"Scaled: %.2f%% (%.2f%%)\" % (results.mean()*100, results.std()*100))"
      ],
      "execution_count": 0,
      "outputs": [
        {
          "output_type": "stream",
          "text": [
            "Scaled: 97.33% (4.42%)\n"
          ],
          "name": "stdout"
        }
      ]
    },
    {
      "metadata": {
        "id": "gQbBy7P9ZoVE",
        "colab_type": "text"
      },
      "cell_type": "markdown",
      "source": [
        "## Tuned Model"
      ]
    },
    {
      "metadata": {
        "id": "g8RlqHFUWGmd",
        "colab_type": "code",
        "outputId": "7eb73063-6f9a-4cc9-b835-cb30ffe419bb",
        "colab": {
          "base_uri": "https://localhost:8080/",
          "height": 34
        }
      },
      "cell_type": "code",
      "source": [
        "# tuned model\n",
        "def tuned_model():\n",
        "  # create model\n",
        "  model = models.Sequential()\n",
        "  model.add(layers.Dense(8, activation ='relu', input_shape = (X.shape[1],))) # number of features (4) are used as vector in input shape\n",
        "  model.add(layers.Dense(10, activation='relu'))\n",
        "  model.add(layers.Dense(10, activation='relu'))\n",
        "  model.add(layers.Dense(3, activation ='softmax'))\n",
        "\t# Compile model\n",
        "  model.compile(optimizer = 'Adam', loss = 'categorical_crossentropy', metrics = ['accuracy'])\n",
        "  return model\n",
        "\n",
        "estimator = KerasClassifier(build_fn=tuned_model, epochs=200, batch_size=5, verbose=0)\n",
        "\n",
        "kfold = KFold(n_splits=10, shuffle=True, random_state=seed)\n",
        "\n",
        "results = cross_val_score(estimator, X, dummy_y, cv=kfold)\n",
        "print(\"Tuned: %.2f%% (%.2f%%)\" % (results.mean()*100, results.std()*100))"
      ],
      "execution_count": 32,
      "outputs": [
        {
          "output_type": "stream",
          "text": [
            "Tuned: 96.67% (4.47%)\n"
          ],
          "name": "stdout"
        }
      ]
    },
    {
      "metadata": {
        "id": "-b8kUA95bXVU",
        "colab_type": "text"
      },
      "cell_type": "markdown",
      "source": [
        "# Functional API"
      ]
    },
    {
      "metadata": {
        "id": "gN-cKf7LZ3Ud",
        "colab_type": "text"
      },
      "cell_type": "markdown",
      "source": [
        "## Baseline Model"
      ]
    },
    {
      "metadata": {
        "id": "R6qY2TXoWi4i",
        "colab_type": "code",
        "outputId": "a98f2910-e0bb-4264-e5e9-3832d5212c3d",
        "colab": {
          "base_uri": "https://localhost:8080/",
          "height": 34
        }
      },
      "cell_type": "code",
      "source": [
        "def baseline_functional():\n",
        "  input_tensor = Input(shape=(4,))\n",
        "  x = layers.Dense(8, activation='relu')(input_tensor)\n",
        "  output_tensor = layers.Dense(3, activation='softmax')(x)\n",
        "# The Model class turns an input tensor and output tensor into a model\n",
        "  model = Model(input_tensor, output_tensor)\n",
        "  \n",
        "  # Compile the model\n",
        "  model.compile(optimizer = 'Adam', loss = 'categorical_crossentropy', metrics = ['accuracy'])\n",
        "  \n",
        "  return model\n",
        "\n",
        "estimator = KerasClassifier(build_fn=baseline_functional, epochs=200, batch_size=5, verbose=0)\n",
        "\n",
        "kfold = KFold(n_splits=10, shuffle=True, random_state=seed)\n",
        "\n",
        "results = cross_val_score(estimator, X, dummy_y, cv=kfold)\n",
        "print(\"baseline_functional: %.2f%% (%.2f%%)\" % (results.mean()*100, results.std()*100))\n"
      ],
      "execution_count": 0,
      "outputs": [
        {
          "output_type": "stream",
          "text": [
            "baseline_functional: 97.33% (3.27%)\n"
          ],
          "name": "stdout"
        }
      ]
    },
    {
      "metadata": {
        "id": "8s7d9S-7aAAA",
        "colab_type": "text"
      },
      "cell_type": "markdown",
      "source": [
        "## Smaller Model "
      ]
    },
    {
      "metadata": {
        "id": "U4CdM31pbno5",
        "colab_type": "code",
        "outputId": "a9ca4a9e-373b-4e44-fad2-b9361318f535",
        "colab": {
          "base_uri": "https://localhost:8080/",
          "height": 34
        }
      },
      "cell_type": "code",
      "source": [
        "def smaller_functional():\n",
        "  input_tensor = Input(shape=(4,))\n",
        "  x = layers.Dense(2, activation='relu')(input_tensor)\n",
        "  output_tensor = layers.Dense(3, activation='softmax')(x)\n",
        "# The Model class turns an input tensor and output tensor into a model\n",
        "  model = Model(input_tensor, output_tensor)\n",
        "  \n",
        "  # Compile the model\n",
        "  model.compile(optimizer = 'Adam', loss = 'categorical_crossentropy', metrics = ['accuracy'])\n",
        "  \n",
        "  return model\n",
        "\n",
        "estimator = KerasClassifier(build_fn=smaller_functional, epochs=200, batch_size=5, verbose=0)\n",
        "\n",
        "kfold = KFold(n_splits=10, shuffle=True, random_state=seed)\n",
        "\n",
        "results = cross_val_score(estimator, X, dummy_y, cv=kfold)\n",
        "print(\"smaller_functional: %.2f%% (%.2f%%)\" % (results.mean()*100, results.std()*100))"
      ],
      "execution_count": 0,
      "outputs": [
        {
          "output_type": "stream",
          "text": [
            "smaller_functional: 76.67% (27.04%)\n"
          ],
          "name": "stdout"
        }
      ]
    },
    {
      "metadata": {
        "id": "kOindztSaDsN",
        "colab_type": "text"
      },
      "cell_type": "markdown",
      "source": [
        "## Larger Model"
      ]
    },
    {
      "metadata": {
        "id": "WW6cObsDc2Yn",
        "colab_type": "code",
        "outputId": "a732b35b-dcc9-4bc1-f3b9-63d95141a9f7",
        "colab": {
          "base_uri": "https://localhost:8080/",
          "height": 34
        }
      },
      "cell_type": "code",
      "source": [
        "def larger_functional():\n",
        "  input_tensor = Input(shape=(4,))\n",
        "  x = layers.Dense(16, activation='relu')(input_tensor)\n",
        "  output_tensor = layers.Dense(3, activation='softmax')(x)\n",
        "# The Model class turns an input tensor and output tensor into a model\n",
        "  model = Model(input_tensor, output_tensor)\n",
        "  \n",
        "  # Compile the model\n",
        "  model.compile(optimizer = 'Adam', loss = 'categorical_crossentropy', metrics = ['accuracy'])\n",
        "  \n",
        "  return model\n",
        "\n",
        "estimator = KerasClassifier(build_fn=larger_functional, epochs=200, batch_size=5, verbose=0)\n",
        "\n",
        "kfold = KFold(n_splits=10, shuffle=True, random_state=seed)\n",
        "\n",
        "results = cross_val_score(estimator, X, dummy_y, cv=kfold)\n",
        "print(\"larger_functional: %.2f%% (%.2f%%)\" % (results.mean()*100, results.std()*100))"
      ],
      "execution_count": 0,
      "outputs": [
        {
          "output_type": "stream",
          "text": [
            "larger_functional: 96.67% (5.37%)\n"
          ],
          "name": "stdout"
        }
      ]
    },
    {
      "metadata": {
        "id": "fqe_28IgaG_o",
        "colab_type": "text"
      },
      "cell_type": "markdown",
      "source": [
        "## Scaled Model"
      ]
    },
    {
      "metadata": {
        "id": "ClQlL3fWdLeV",
        "colab_type": "code",
        "outputId": "e82dcb30-d471-429c-eedd-66d3a458eea5",
        "colab": {
          "base_uri": "https://localhost:8080/",
          "height": 34
        }
      },
      "cell_type": "code",
      "source": [
        "def scaled_functional():\n",
        "  input_tensor = Input(shape=(4,))\n",
        "  x = layers.Dense(512, activation='relu')(input_tensor)\n",
        "  x = layers.Dense(512, activation='relu')(x)\n",
        "  output_tensor = layers.Dense(3, activation='softmax')(x)\n",
        "# The Model class turns an input tensor and output tensor into a model\n",
        "  model = Model(input_tensor, output_tensor)\n",
        "  \n",
        "  # Compile the model\n",
        "  model.compile(optimizer = 'Adam', loss = 'categorical_crossentropy', metrics = ['accuracy'])\n",
        "  \n",
        "  return model\n",
        "\n",
        "estimator = KerasClassifier(build_fn=scaled_functional, epochs=300, batch_size=5, verbose=0)\n",
        "\n",
        "kfold = KFold(n_splits=10, shuffle=True, random_state=seed)\n",
        "\n",
        "results = cross_val_score(estimator, X, dummy_y, cv=kfold)\n",
        "print(\"Scaled_functional: %.2f%% (%.2f%%)\" % (results.mean()*100, results.std()*100))"
      ],
      "execution_count": 0,
      "outputs": [
        {
          "output_type": "stream",
          "text": [
            "Scaled_functional: 96.00% (4.42%)\n"
          ],
          "name": "stdout"
        }
      ]
    },
    {
      "metadata": {
        "id": "X4Boq-oHaOl5",
        "colab_type": "text"
      },
      "cell_type": "markdown",
      "source": [
        "## Tuned Model"
      ]
    },
    {
      "metadata": {
        "id": "RpXm55m-d0Xz",
        "colab_type": "code",
        "outputId": "8122a56a-f72a-400e-f91a-ed1a71f7ae33",
        "colab": {
          "base_uri": "https://localhost:8080/",
          "height": 34
        }
      },
      "cell_type": "code",
      "source": [
        "def tuned_functional():\n",
        "  input_tensor = Input(shape=(4,))\n",
        "  x = layers.Dense(8, activation='relu')(input_tensor)\n",
        "  x = layers.Dense(10, activation='relu')(x)\n",
        "  x = layers.Dense(10, activation='relu')(x)\n",
        "  output_tensor = layers.Dense(3, activation='softmax')(x)\n",
        "# The Model class turns an input tensor and output tensor into a model\n",
        "  model = Model(input_tensor, output_tensor)\n",
        "  \n",
        "  # Compile the model\n",
        "  model.compile(optimizer = 'Adam', loss = 'categorical_crossentropy', metrics = ['accuracy'])\n",
        "  \n",
        "  return model\n",
        "\n",
        "estimator = KerasClassifier(build_fn=tuned_functional, epochs=200, batch_size=5, verbose=0)\n",
        "\n",
        "kfold = KFold(n_splits=10, shuffle=True, random_state=seed)\n",
        "\n",
        "results = cross_val_score(estimator, X, dummy_y, cv=kfold)\n",
        "print(\"tuned_functional: %.2f%% (%.2f%%)\" % (results.mean()*100, results.std()*100))"
      ],
      "execution_count": 0,
      "outputs": [
        {
          "output_type": "stream",
          "text": [
            "tuned_functional: 97.33% (3.27%)\n"
          ],
          "name": "stdout"
        }
      ]
    },
    {
      "metadata": {
        "id": "tr_5xgCPeP_Q",
        "colab_type": "text"
      },
      "cell_type": "markdown",
      "source": [
        "# Model Subclassing"
      ]
    },
    {
      "metadata": {
        "id": "Xa1F8V8UaRsb",
        "colab_type": "text"
      },
      "cell_type": "markdown",
      "source": [
        "## Baseline Model"
      ]
    },
    {
      "metadata": {
        "id": "AYZpwdLHeO32",
        "colab_type": "code",
        "outputId": "c3ee6484-bf4c-4d77-f560-1615b4dd25c1",
        "colab": {
          "base_uri": "https://localhost:8080/",
          "height": 34
        }
      },
      "cell_type": "code",
      "source": [
        "class MyBaselineModel(keras.Model):\n",
        "  \n",
        "  def __init__(self):\n",
        "    super(MyBaselineModel,self).__init__('my_baseline')\n",
        "    self.dense1 = keras.layers.Dense(8, activation='relu')\n",
        "    self.dense2 = keras.layers.Dense(3, activation='softmax')\n",
        "    \n",
        "  def call(self, inputs):\n",
        "    x = self.dense1(inputs)\n",
        "    return self.dense2(x)\n",
        "    \n",
        "def baseline_subclass_model():\n",
        "  inputs = keras.Input(shape=(4,))\n",
        "  mymodel = MyBaselineModel()\n",
        "  outputs = mymodel.call(inputs)\n",
        "    \n",
        "  model = keras.Model(inputs,outputs)\n",
        "    \n",
        "# compiling model\n",
        "  model.compile(optimizer = 'Adam', loss = 'categorical_crossentropy', metrics = ['accuracy'])\n",
        "\n",
        "  return model\n",
        "\n",
        "estimator = KerasClassifier(build_fn=baseline_subclass_model, epochs=200, batch_size=5, verbose=0)\n",
        "\n",
        "kfold = KFold(n_splits=10, shuffle=True, random_state=seed)\n",
        "\n",
        "results = cross_val_score(estimator, X, dummy_y, cv=kfold)\n",
        "print(\"baseline_subclass_model: %.2f%% (%.2f%%)\" % (results.mean()*100, results.std()*100))\n",
        "\n"
      ],
      "execution_count": 0,
      "outputs": [
        {
          "output_type": "stream",
          "text": [
            "baseline_subclass_model: 95.33% (5.21%)\n"
          ],
          "name": "stdout"
        }
      ]
    },
    {
      "metadata": {
        "id": "kfIiRU8vaVYX",
        "colab_type": "text"
      },
      "cell_type": "markdown",
      "source": [
        "## Smaller Model"
      ]
    },
    {
      "metadata": {
        "id": "YHmNvi50fVfF",
        "colab_type": "code",
        "outputId": "6b856b6e-683e-4f96-a206-29fdd303a2f1",
        "colab": {
          "base_uri": "https://localhost:8080/",
          "height": 34
        }
      },
      "cell_type": "code",
      "source": [
        "class MySmallerModel(keras.Model):  # change\n",
        "  \n",
        "  def __init__(self):\n",
        "    super(MySmallerModel,self).__init__('my_smaller')  # change\n",
        "    self.dense1 = keras.layers.Dense(2, activation='relu')          # change\n",
        "    self.dense2 = keras.layers.Dense(3, activation='softmax')\n",
        "    \n",
        "  def call(self, inputs):\n",
        "    x = self.dense1(inputs)      # change\n",
        "    return self.dense2(x)\n",
        "    \n",
        "def smaller_subclass_model():\n",
        "  inputs = keras.Input(shape=(4,))\n",
        "  mymodel = MySmallerModel()        # change\n",
        "  outputs = mymodel.call(inputs)\n",
        "    \n",
        "  model = keras.Model(inputs,outputs)\n",
        "    \n",
        "# compiling model\n",
        "  model.compile(optimizer = 'Adam', loss = 'categorical_crossentropy', metrics = ['accuracy'])\n",
        "\n",
        "  return model\n",
        "\n",
        "estimator = KerasClassifier(build_fn=smaller_subclass_model, epochs=200, batch_size=5, verbose=0)    # change\n",
        "\n",
        "kfold = KFold(n_splits=10, shuffle=True, random_state=seed)\n",
        "\n",
        "results = cross_val_score(estimator, X, dummy_y, cv=kfold)\n",
        "print(\"smaller_subclass_model: %.2f%% (%.2f%%)\" % (results.mean()*100, results.std()*100))  # change"
      ],
      "execution_count": 0,
      "outputs": [
        {
          "output_type": "stream",
          "text": [
            "smaller_subclass_model: 81.33% (29.48%)\n"
          ],
          "name": "stdout"
        }
      ]
    },
    {
      "metadata": {
        "id": "Tn3lR-a8aYHk",
        "colab_type": "text"
      },
      "cell_type": "markdown",
      "source": [
        "## Larger Model"
      ]
    },
    {
      "metadata": {
        "id": "bJRc_52GgY9z",
        "colab_type": "code",
        "outputId": "d78b2a2b-8a13-4c78-f3fe-82861fe25adf",
        "colab": {
          "base_uri": "https://localhost:8080/",
          "height": 34
        }
      },
      "cell_type": "code",
      "source": [
        "class MyLargerModel(keras.Model):  # change\n",
        "  \n",
        "  def __init__(self):\n",
        "    super(MyLargerModel,self).__init__('my_larger')   # change\n",
        "    self.dense1 = keras.layers.Dense(16, activation='relu')           # change\n",
        "    self.dense2 = keras.layers.Dense(3, activation='softmax')\n",
        "    \n",
        "  def call(self, inputs):\n",
        "    x = self.dense1(inputs)     # change\n",
        "    return self.dense2(x)\n",
        "    \n",
        "def larger_subclass_model():  # change\n",
        "  inputs = keras.Input(shape=(4,))\n",
        "  mymodel = MyLargerModel()        # change\n",
        "  outputs = mymodel.call(inputs)\n",
        "    \n",
        "  model = keras.Model(inputs,outputs)\n",
        "    \n",
        "# compiling model\n",
        "  model.compile(optimizer = 'Adam', loss = 'categorical_crossentropy', metrics = ['accuracy'])\n",
        "\n",
        "  return model\n",
        "\n",
        "estimator = KerasClassifier(build_fn=larger_subclass_model, epochs=200, batch_size=5, verbose=0)    # change\n",
        "\n",
        "kfold = KFold(n_splits=10, shuffle=True, random_state=seed)\n",
        "\n",
        "results = cross_val_score(estimator, X, dummy_y, cv=kfold)\n",
        "print(\"larger_subclass_model: %.2f%% (%.2f%%)\" % (results.mean()*100, results.std()*100))  # change"
      ],
      "execution_count": 0,
      "outputs": [
        {
          "output_type": "stream",
          "text": [
            "larger_subclass_model: 96.00% (5.33%)\n"
          ],
          "name": "stdout"
        }
      ]
    },
    {
      "metadata": {
        "id": "dIOBj0VXabV3",
        "colab_type": "text"
      },
      "cell_type": "markdown",
      "source": [
        "## Scaled Model"
      ]
    },
    {
      "metadata": {
        "id": "7ijJ4W8NhBt5",
        "colab_type": "code",
        "outputId": "0a328d39-d332-4a4c-97ac-220d95a9a93a",
        "colab": {
          "base_uri": "https://localhost:8080/",
          "height": 34
        }
      },
      "cell_type": "code",
      "source": [
        "class MyScaledModel(keras.Model):  # change\n",
        "  \n",
        "  def __init__(self):\n",
        "    super(MyScaledModel,self).__init__('my_scaled')                  # change     \n",
        "    self.dense1 = keras.layers.Dense(512, activation='relu') \n",
        "    self.dense2 = keras.layers.Dense(512, activation='relu')            # change\n",
        "    self.dense3 = keras.layers.Dense(3, activation='softmax')\n",
        "    \n",
        "  def call(self, inputs):\n",
        "    x = self.dense1(inputs)\n",
        "    x = self.dense2(x)       # change \n",
        "    return self.dense3(x)\n",
        "    \n",
        "def scaled_subclass_model():  # change\n",
        "  inputs = keras.Input(shape=(4,))\n",
        "  mymodel = MyScaledModel()        # change\n",
        "  outputs = mymodel.call(inputs)\n",
        "    \n",
        "  model = keras.Model(inputs,outputs)\n",
        "    \n",
        "# compiling model\n",
        "  model.compile(optimizer = 'Adam', loss = 'categorical_crossentropy', metrics = ['accuracy'])\n",
        "\n",
        "  return model\n",
        "\n",
        "estimator = KerasClassifier(build_fn=scaled_subclass_model, epochs=300, batch_size=5, verbose=0)    # change\n",
        "\n",
        "kfold = KFold(n_splits=10, shuffle=True, random_state=seed)\n",
        "\n",
        "results = cross_val_score(estimator, X, dummy_y, cv=kfold)\n",
        "print(\"scaled_subclass_model: %.2f%% (%.2f%%)\" % (results.mean()*100, results.std()*100))  # change"
      ],
      "execution_count": 0,
      "outputs": [
        {
          "output_type": "stream",
          "text": [
            "scaled_subclass_model: 96.67% (5.37%)\n"
          ],
          "name": "stdout"
        }
      ]
    },
    {
      "metadata": {
        "id": "1Y7l3p2xahFe",
        "colab_type": "text"
      },
      "cell_type": "markdown",
      "source": [
        "## Tuned Model"
      ]
    },
    {
      "metadata": {
        "id": "Rbw_ddg1ia6v",
        "colab_type": "code",
        "outputId": "77fea333-a2b2-4512-b1c1-f3aff534a2ca",
        "colab": {
          "base_uri": "https://localhost:8080/",
          "height": 34
        }
      },
      "cell_type": "code",
      "source": [
        "class MyTunedModel(keras.Model):  # change\n",
        "  \n",
        "  def __init__(self):\n",
        "    super(MyTunedModel,self).__init__('my_tuned')   # change     \n",
        "    self.dense1 = keras.layers.Dense(8, activation='relu')\n",
        "    self.dense2 = keras.layers.Dense(10, activation='relu')   \n",
        "    self.dense3 = keras.layers.Dense(10, activation='relu')   \n",
        "    self.dense4 = keras.layers.Dense(3, activation='softmax')\n",
        "    \n",
        "  def call(self, inputs):\n",
        "    x = self.dense1(inputs)\n",
        "    x = self.dense2(x)      # change\n",
        "    x = self.dense3(x)  \n",
        "    return self.dense4(x)\n",
        "    \n",
        "def tuned_subclass_model():  # change\n",
        "  inputs = keras.Input(shape=(4,))\n",
        "  mymodel = MyTunedModel()        # change\n",
        "  outputs = mymodel.call(inputs)\n",
        "    \n",
        "  model = keras.Model(inputs,outputs)\n",
        "    \n",
        "# compiling model\n",
        "  model.compile(optimizer = 'Adam', loss = 'categorical_crossentropy', metrics = ['accuracy'])\n",
        "\n",
        "  return model\n",
        "\n",
        "estimator = KerasClassifier(build_fn=tuned_subclass_model, epochs=100, batch_size=5, verbose=0)    # change\n",
        "\n",
        "kfold = KFold(n_splits=10, shuffle=True, random_state=None)\n",
        "\n",
        "results = cross_val_score(estimator, X, dummy_y, cv=kfold)\n",
        "print(\"tuned_subclass_model: %.2f%% (%.2f%%)\" % (results.mean()*100, results.std()*100))  # change"
      ],
      "execution_count": 31,
      "outputs": [
        {
          "output_type": "stream",
          "text": [
            "tuned_subclass_model: 98.67% (2.67%)\n"
          ],
          "name": "stdout"
        }
      ]
    },
    {
      "metadata": {
        "id": "mH4JbnMPk1ei",
        "colab_type": "text"
      },
      "cell_type": "markdown",
      "source": [
        "# Without Scikit-learn library\n"
      ]
    },
    {
      "metadata": {
        "id": "XrLz-S88anKV",
        "colab_type": "text"
      },
      "cell_type": "markdown",
      "source": [
        "## Tuned Model using Custom K-Fold Validation Method (without Scikit-learn Library)"
      ]
    },
    {
      "metadata": {
        "id": "CG6jgMwXkcBS",
        "colab_type": "code",
        "colab": {}
      },
      "cell_type": "code",
      "source": [
        "# tuned model\n",
        "def tuned_custom():\n",
        "  # create model\n",
        "  model = models.Sequential()\n",
        "  model.add(layers.Dense(8, activation ='relu', input_shape = (X.shape[1],))) # number of features (4) are used as vector in input shape\n",
        "  model.add(layers.Dense(10, activation='relu'))\n",
        "  model.add(layers.Dense(10, activation='relu'))\n",
        "  model.add(layers.Dense(3, activation ='softmax'))\n",
        "\t# Compile model\n",
        "  model.compile(optimizer = 'Adam', loss = 'categorical_crossentropy', metrics = ['accuracy'])\n",
        "  return model"
      ],
      "execution_count": 0,
      "outputs": []
    },
    {
      "metadata": {
        "id": "E908EymklGcR",
        "colab_type": "code",
        "colab": {}
      },
      "cell_type": "code",
      "source": [
        "# shuffling data\n",
        "dataframe = shuffle(dataframe)\n",
        "\n",
        "# checking data\n",
        "dataset = dataframe.values\n",
        "X = dataset[:,0:4].astype(float)\n",
        "Y = dataset[:,4]\n",
        "\n",
        "# encode class values as integers\n",
        "encoder = LabelEncoder()\n",
        "encoder.fit(Y)\n",
        "encoded_Y = encoder.transform(Y)\n",
        "# convert integers to dummy variables (i.e. one hot encoded)\n",
        "dummy_y = np_utils.to_categorical(encoded_Y)"
      ],
      "execution_count": 0,
      "outputs": []
    },
    {
      "metadata": {
        "id": "ruUyYy9nm4tB",
        "colab_type": "code",
        "outputId": "f6f68698-a440-4636-d2cb-7a0de3fcf947",
        "colab": {
          "base_uri": "https://localhost:8080/",
          "height": 353
        }
      },
      "cell_type": "code",
      "source": [
        "k = 10\n",
        "num_val_samples = len(X) // 10\n",
        "num_epochs = 200\n",
        "all_scores = numpy.array([])\n",
        "\n",
        "for i in range(k):\n",
        "  print('processing fold # ', i+1)\n",
        "  # prepare the validation data: data from partition # k\n",
        "  val_data = X[i * num_val_samples: (i + 1) * num_val_samples]\n",
        "  val_targets = dummy_y[i * num_val_samples: (i + 1) * num_val_samples]\n",
        "  \n",
        "  # prepare the training data: data from data - k\n",
        "  partial_train_data = numpy.concatenate(                    \n",
        "      [X[:i * num_val_samples],\n",
        "      X[(i + 1 ) * num_val_samples:]],\n",
        "  axis = 0)\n",
        "  partial_train_targets = numpy.concatenate(\n",
        "      [dummy_y[:i * num_val_samples],\n",
        "      dummy_y[(i + 1 ) * num_val_samples:]],\n",
        "  axis = 0)\n",
        "  \n",
        "  # Build the Keras Models (already commpiled)\n",
        "  model = tuned_custom()                              # change\n",
        "  \n",
        "  # Train the model (in silence mode, verbose = 0)\n",
        "  history = model.fit(partial_train_data, partial_train_targets, epochs = num_epochs, batch_size = 5, verbose = 0)\n",
        "  \n",
        "  # Evaluate the model on the validation data\n",
        "  val_categoical_crossentropy, val_adam = model.evaluate(val_data, val_targets, verbose = 0)\n",
        "  \n",
        "  all_scores = numpy.append(all_scores, val_adam)\n",
        "  print(\"K-Fold Witout Scikit-learn : (Accuracy)Mean %.2f%% (Error)Std (%.2f%%)\" % (all_scores.mean()*100, all_scores.std()*100))\n",
        "       "
      ],
      "execution_count": 0,
      "outputs": [
        {
          "output_type": "stream",
          "text": [
            "processing fold #  1\n",
            "K-Fold Witout Scikit-learn : (Accuracy)Mean 100.00% (Error)Std (0.00%)\n",
            "processing fold #  2\n",
            "K-Fold Witout Scikit-learn : (Accuracy)Mean 100.00% (Error)Std (0.00%)\n",
            "processing fold #  3\n",
            "K-Fold Witout Scikit-learn : (Accuracy)Mean 97.78% (Error)Std (3.14%)\n",
            "processing fold #  4\n",
            "K-Fold Witout Scikit-learn : (Accuracy)Mean 98.33% (Error)Std (2.89%)\n",
            "processing fold #  5\n",
            "K-Fold Witout Scikit-learn : (Accuracy)Mean 97.33% (Error)Std (3.27%)\n",
            "processing fold #  6\n",
            "K-Fold Witout Scikit-learn : (Accuracy)Mean 97.78% (Error)Std (3.14%)\n",
            "processing fold #  7\n",
            "K-Fold Witout Scikit-learn : (Accuracy)Mean 98.10% (Error)Std (3.01%)\n",
            "processing fold #  8\n",
            "K-Fold Witout Scikit-learn : (Accuracy)Mean 97.50% (Error)Std (3.23%)\n",
            "processing fold #  9\n",
            "K-Fold Witout Scikit-learn : (Accuracy)Mean 97.78% (Error)Std (3.14%)\n",
            "processing fold #  10\n",
            "K-Fold Witout Scikit-learn : (Accuracy)Mean 98.00% (Error)Std (3.06%)\n"
          ],
          "name": "stdout"
        }
      ]
    },
    {
      "metadata": {
        "id": "7MCe5n9DbMAs",
        "colab_type": "code",
        "colab": {}
      },
      "cell_type": "code",
      "source": [
        ""
      ],
      "execution_count": 0,
      "outputs": []
    }
  ]
}